{
 "cells": [
  {
   "cell_type": "markdown",
   "metadata": {},
   "source": [
    "# Grabbing Tweets by search terms\n",
    "**By:** _Mike Scheibel_ "
   ]
  },
  {
   "cell_type": "markdown",
   "metadata": {},
   "source": [
    "Collecting the mentions from the Social Dilemma documentary Twitter account."
   ]
  },
  {
   "cell_type": "code",
   "execution_count": 1,
   "metadata": {},
   "outputs": [],
   "source": [
    "import datetime\n",
    "import tweepy\n",
    "from pprint import pprint\n",
    "\n",
    "# I've put my API keys in a .py file called API_keys.py\n",
    "from Mike_API_Keys import api_key, api_key_secret, access_token, access_token_secret"
   ]
  },
  {
   "cell_type": "code",
   "execution_count": 2,
   "metadata": {},
   "outputs": [],
   "source": [
    "# Authenticate the Tweepy API\n",
    "auth = tweepy.OAuthHandler(api_key,api_key_secret)\n",
    "auth.set_access_token(access_token, access_token_secret)\n",
    "api = tweepy.API(auth,wait_on_rate_limit=True)"
   ]
  },
  {
   "cell_type": "code",
   "execution_count": 3,
   "metadata": {},
   "outputs": [],
   "source": [
    "search_words = '@SocialDilemma_ -filter:retweets'\n",
    "\n",
    "\n",
    "tweets_all = tweepy.Cursor(api.search,\n",
    "                   tweet_mode='extended',\n",
    "                   q=search_words,\n",
    "                   lang='en').items()\n",
    "\n",
    "# Put all the Tweet objects for a single Tweet into a tuple, and put all those into a list\n",
    "tweets = [(tweet.full_text,tweet.created_at,tweet.user.screen_name) for tweet in tweets_all]\n",
    "    "
   ]
  },
  {
   "cell_type": "markdown",
   "metadata": {},
   "source": [
    "Writing Social Dilemma mentions to CSV file"
   ]
  },
  {
   "cell_type": "code",
   "execution_count": 6,
   "metadata": {},
   "outputs": [],
   "source": [
    "import csv\n",
    "\n",
    "with open(f'SocialDilemma_tweets.csv', 'w', encoding='utf-8') as f:\n",
    "        writer = csv.writer(f)\n",
    "        writer.writerow([\"full_text\",\"created_at\",\"user.screen_name\"])\n",
    "        writer.writerows(tweets)\n",
    "    \n",
    "        pass"
   ]
  },
  {
   "cell_type": "markdown",
   "metadata": {},
   "source": [
    "### Tokenize and Analyse Text"
   ]
  },
  {
   "cell_type": "code",
   "execution_count": 3,
   "metadata": {},
   "outputs": [],
   "source": [
    "import nltk\n",
    "import numpy as np\n",
    "\n",
    "from string import punctuation\n",
    "from collections import Counter\n",
    "\n",
    "from pprint import pprint # get some prettier printing of objects\n",
    "\n",
    "from nltk.corpus import stopwords\n",
    "\n",
    "sw = set(stopwords.words('english'))"
   ]
  },
  {
   "cell_type": "code",
   "execution_count": 4,
   "metadata": {},
   "outputs": [],
   "source": [
    "sd = open(\"SocialDilemma_tweets.csv\", encoding='utf-8').read()\n",
    "\n",
    "sd_clean = [w for w in sd.lower().split()]\n",
    "sd_clean = [w.lower() for w in sd_clean if w.isalpha() and w not in sw]"
   ]
  },
  {
   "cell_type": "code",
   "execution_count": 6,
   "metadata": {},
   "outputs": [
    {
     "data": {
      "text/plain": [
       "{'tokens': 3635,\n",
       " 'unique_tokens': 1611,\n",
       " 'avg_token_length': 6.108940852819807,\n",
       " 'lexical_diversity': 0.44319119669876206,\n",
       " 'top_10': [('social', 63),\n",
       "  ('watch', 62),\n",
       "  ('media', 44),\n",
       "  ('people', 44),\n",
       "  ('like', 43),\n",
       "  ('us', 37),\n",
       "  ('watched', 36),\n",
       "  ('documentary', 29),\n",
       "  ('watching', 29),\n",
       "  ('see', 28)]}"
      ]
     },
     "execution_count": 6,
     "metadata": {},
     "output_type": "execute_result"
    }
   ],
   "source": [
    "total_tokens = len(sd_clean)\n",
    "unique_tokens = len(set(sd_clean))\n",
    "lex_diversity = len(set(sd_clean))/len(sd_clean)\n",
    "avg_token_len = np.mean([len(w) for w in sd_clean])\n",
    "top_10 = Counter(sd_clean).most_common(10)\n",
    "\n",
    "results = {'tokens':total_tokens,\n",
    "            'unique_tokens':unique_tokens,\n",
    "            'avg_token_length':avg_token_len,\n",
    "            'lexical_diversity':lex_diversity,\n",
    "            'top_10':top_10}\n",
    "\n",
    "results"
   ]
  },
  {
   "cell_type": "code",
   "execution_count": null,
   "metadata": {},
   "outputs": [],
   "source": []
  }
 ],
 "metadata": {
  "kernelspec": {
   "display_name": "Python 3",
   "language": "python",
   "name": "python3"
  },
  "language_info": {
   "codemirror_mode": {
    "name": "ipython",
    "version": 3
   },
   "file_extension": ".py",
   "mimetype": "text/x-python",
   "name": "python",
   "nbconvert_exporter": "python",
   "pygments_lexer": "ipython3",
   "version": "3.8.3"
  }
 },
 "nbformat": 4,
 "nbformat_minor": 4
}
